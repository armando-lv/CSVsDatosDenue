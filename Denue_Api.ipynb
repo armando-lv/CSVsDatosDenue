{
  "nbformat": 4,
  "nbformat_minor": 0,
  "metadata": {
    "colab": {
      "name": "Denue Api",
      "provenance": [],
      "mount_file_id": "1zLFveVYIpcLir43pIyOmAtK_DvgWe3rz",
      "authorship_tag": "ABX9TyM8qCQYYYyM3z+m/QQoS1T+",
      "include_colab_link": true
    },
    "kernelspec": {
      "display_name": "Python 3",
      "name": "python3"
    },
    "language_info": {
      "name": "python"
    }
  },
  "cells": [
    {
      "cell_type": "markdown",
      "metadata": {
        "id": "view-in-github",
        "colab_type": "text"
      },
      "source": [
        "<a href=\"https://colab.research.google.com/github/armando-lv/CSVsDatosDenue/blob/main/Denue_Api.ipynb\" target=\"_parent\"><img src=\"https://colab.research.google.com/assets/colab-badge.svg\" alt=\"Open In Colab\"/></a>"
      ]
    },
    {
      "cell_type": "markdown",
      "metadata": {
        "id": "6tvKg0XUucLZ"
      },
      "source": [
        "Este notebook sirve para consultar el API del DENUE realizado por el INEGI.\n",
        "Realiza una consulta BuscarEntidad, guardando en tu Drive 32 CSVs con información de todos los negocios pertenecientes a cada estado.\n",
        "\n",
        "En la sección *División de CSVs* se pueden dividir estos archivos para que tengan un menor tamaño. Estos se guardan en un folder aparte.\n",
        "\n",
        "Es necesario tener una clave de acceso para usar el notebook, la cual la puedes conseguir aquí: https://www.inegi.org.mx/servicios/api_denue.html\n"
      ]
    },
    {
      "cell_type": "markdown",
      "metadata": {
        "id": "uv0I_NUUtlh4"
      },
      "source": [
        "#### Consulta y descarga de datos del API"
      ]
    },
    {
      "cell_type": "code",
      "metadata": {
        "id": "fth9sJwtbggK"
      },
      "source": [
        "# Importamos las librerías que usaremos\n",
        "import requests\n",
        "import pandas as pd"
      ],
      "execution_count": null,
      "outputs": []
    },
    {
      "cell_type": "code",
      "metadata": {
        "id": "atWzkLimtAAa"
      },
      "source": [
        "# Montamos el google drive donde queremos nuestros CSVs, recuerda seguir las instrucciones\n",
        "from google.colab import drive\n",
        "drive.mount('/content/drive')"
      ],
      "execution_count": null,
      "outputs": []
    },
    {
      "cell_type": "code",
      "metadata": {
        "id": "jddopgNCbtfp"
      },
      "source": [
        "# Inserta como string tu clave de acceso\n",
        "key = \"[TU CLAVE AQUI]\""
      ],
      "execution_count": null,
      "outputs": []
    },
    {
      "cell_type": "code",
      "metadata": {
        "id": "7wS-IZs2vPB_"
      },
      "source": [
        "# Los parametros que usaremos para nuestra consulta, en drive_folder debes poner el folder de tu google drive donde deseas guardar tus archivos\n",
        "cond = \"todos\"\n",
        "rinicial = 1\n",
        "rfinal = 1000000\n",
        "drive_folder = \"/content/drive/[Inserta el resto de tu directorio aqui]\""
      ],
      "execution_count": null,
      "outputs": []
    },
    {
      "cell_type": "code",
      "metadata": {
        "id": "y4UP-VvuXsPC"
      },
      "source": [
        "# Los estados que consultaremos, y un valor de relleno para hacer más facil los for loops\n",
        "states = [\n",
        "    \"Filler\", \"Aguascalientes\", \"Baja California\", \"Baja California Sur\", \"Campeche\", \"Coahuila\", \"Colima\", \"Chiapas\", \n",
        "    \"Chihuahua\", \"Ciudad de México\", \"Durango\", \"Guanajuato\", \"Guerrero\", \"Hidalgo\", \"Jalisco\", \"Estado de México\", \n",
        "    \"Michoacán\", \"Morelos\", \"Nayarit\", \"Nuevo León\", \"Oaxaca\", \"Puebla\", \"Querétaro\", \"Quintana Roo\", \"San Luis Potosí\", \n",
        "    \"Sinaloa\", \"Sonora\", \"Tabasco\", \"Tamaulipas\", \"Tlaxcala\", \"Veracruz\", \"Yucatán\", \"Zacatecas\"\n",
        "]"
      ],
      "execution_count": null,
      "outputs": []
    },
    {
      "cell_type": "code",
      "metadata": {
        "id": "sgrQCnHY1g3t"
      },
      "source": [
        "for i in range(1, 33):\n",
        "  # Si queremos consultar Aguascalientes, el valor debe ser \"01\" y no solo \"1\"\n",
        "  if len(str(i)) == 1:\n",
        "    estado = \"0\" + str(i)\n",
        "  else:\n",
        "    estado = str(i)\n",
        "\n",
        "  # Obtenemos nuestros datos de la API\n",
        "  bus_endp = f\"https://www.inegi.org.mx/app/api/denue/v1/consulta/BuscarEntidad/{cond}/{estado}/{rinicial}/{rfinal}/{key}\"\n",
        "  bus = requests.get(bus_endp)\n",
        "  data = bus.json()\n",
        "  df = pd.json_normalize(data)\n",
        "\n",
        "  # Guardamos el resultado en un csv, dentro del folder que insertaste y bajo el nombre del estado\n",
        "  df.to_csv(f\"{drive_folder}{states[int(estado)]}.csv\", index=False)\n",
        "\n",
        "  # Todo esto aplica para cada estado, resultando en un folder con 32 csvs"
      ],
      "execution_count": null,
      "outputs": []
    },
    {
      "cell_type": "code",
      "metadata": {
        "id": "1CDntjxIHfKI"
      },
      "source": [
        "# Estos servirán para crear un dashboard ;)\n",
        "df_c = df[[\"Nombre\", \"Clase_actividad\", \"Estrato\", \"Ubicacion\", \"Longitud\", \"Latitud\"]]\n",
        "df_c[[\"Localidad\", \"Municipio\", \"Estado\"]] = df_a[\"Ubicacion\"].str.split(\",\", expand=True)\n",
        "df_c.drop(columns=\"Ubicacion\")"
      ],
      "execution_count": null,
      "outputs": []
    },
    {
      "cell_type": "markdown",
      "metadata": {
        "id": "er5mOWUitf8n"
      },
      "source": [
        "#### División de CSVs"
      ]
    },
    {
      "cell_type": "code",
      "metadata": {
        "id": "JuNsru2ZJLhf"
      },
      "source": [
        "import os\n",
        "import math\n",
        "import numpy as np\n",
        "# Github sólo permite archivos de máximo 25 mb, así que algunos de estos csvs tendran que ser divididos"
      ],
      "execution_count": null,
      "outputs": []
    },
    {
      "cell_type": "code",
      "metadata": {
        "id": "brfHQd3Uz5Oh"
      },
      "source": [
        "# De antemano creamos un folder para guardar nuestros sets divididos\n",
        "ext = \"[Nombre del Folder]/\""
      ],
      "execution_count": null,
      "outputs": []
    },
    {
      "cell_type": "code",
      "metadata": {
        "colab": {
          "base_uri": "https://localhost:8080/"
        },
        "id": "wDwvZSdFPzNd",
        "outputId": "e35410a1-dee0-4d2e-a6d2-a728144aca45"
      },
      "source": [
        "for i in range(1, 33):\n",
        "  filesize = round(os.path.getsize(f\"{drive_folder}{states[i]}.csv\") / 1048576, 2)\n",
        "  if filesize < 20:\n",
        "    continue\n",
        "  parts = math.ceil(filesize / 20)\n",
        "  csv = pd.read_csv(f\"{drive_folder}{states[i]}.csv\")\n",
        "  parts_array = np.array_split(csv, parts)\n",
        "  for x in range (1, parts+1):\n",
        "    parts_array[x-1].to_csv(f\"{drive_folder}{ext}{states[i]}-{x}.csv\", index=False)"
      ],
      "execution_count": null,
      "outputs": [
        {
          "output_type": "stream",
          "name": "stderr",
          "text": [
            "/usr/local/lib/python3.7/dist-packages/IPython/core/interactiveshell.py:2718: DtypeWarning: Columns (13) have mixed types.Specify dtype option on import or set low_memory=False.\n",
            "  interactivity=interactivity, compiler=compiler, result=result)\n",
            "/usr/local/lib/python3.7/dist-packages/IPython/core/interactiveshell.py:2718: DtypeWarning: Columns (9,13) have mixed types.Specify dtype option on import or set low_memory=False.\n",
            "  interactivity=interactivity, compiler=compiler, result=result)\n"
          ]
        }
      ]
    }
  ]
}